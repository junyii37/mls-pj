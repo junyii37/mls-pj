{
 "cells": [
  {
   "metadata": {},
   "cell_type": "markdown",
   "source": "# basic test",
   "id": "347de50408fec939"
  },
  {
   "cell_type": "code",
   "id": "initial_id",
   "metadata": {
    "collapsed": true,
    "ExecuteTime": {
     "end_time": "2025-05-20T15:15:47.547346Z",
     "start_time": "2025-05-20T15:15:41.994690Z"
    }
   },
   "source": [
    "from jsonschema.exceptions import best_match\n",
    "from torchvision.datasets import MNIST, CIFAR10\n",
    "from mynn.data import mnist_augment, preprocess, basic_mnist_augment, merge_datasets, cifar10_augment, basic_cifar10_augment\n",
    "from mynn.layer import Flatten, Linear, ReLU, He, Conv, Dropout, Pooling, BN\n",
    "from mynn.layer.blocks import BasicBlock\n",
    "from mynn.loss import CrossEntropy\n",
    "from mynn import Model\n",
    "from mynn.optimizer import SGD, Adam, MomentGD\n",
    "from mynn.runner import RunnerM, EarlyStopping, CosineAnnealingLR\n",
    "import cupy as cp"
   ],
   "outputs": [],
   "execution_count": 1
  },
  {
   "metadata": {
    "ExecuteTime": {
     "end_time": "2025-05-20T15:15:48.543665Z",
     "start_time": "2025-05-20T15:15:48.083570Z"
    }
   },
   "cell_type": "code",
   "source": [
    "test_dataset = CIFAR10(\n",
    "    root=\"../cifar10\",\n",
    "    train=False,\n",
    "    transform=basic_cifar10_augment(train=False),\n",
    "    download=False\n",
    ")"
   ],
   "id": "cbdec70b5f67ce1e",
   "outputs": [],
   "execution_count": 2
  },
  {
   "metadata": {
    "ExecuteTime": {
     "end_time": "2025-05-20T15:15:49.547322Z",
     "start_time": "2025-05-20T15:15:49.498529Z"
    }
   },
   "cell_type": "code",
   "source": [
    "test_images,  test_labels  = preprocess(test_dataset)\n",
    "test_set  = (test_images,       test_labels)"
   ],
   "id": "c9900f4db839fce2",
   "outputs": [],
   "execution_count": 3
  },
  {
   "metadata": {
    "ExecuteTime": {
     "end_time": "2025-05-20T15:15:51.272474Z",
     "start_time": "2025-05-20T15:15:51.254917Z"
    }
   },
   "cell_type": "code",
   "source": [
    "import numpy as np\n",
    "\n",
    "print(\"Min pixel value:\", np.min(test_images))\n",
    "print(\"Max pixel value:\", np.max(test_images))"
   ],
   "id": "3789347091d6645a",
   "outputs": [
    {
     "name": "stdout",
     "output_type": "stream",
     "text": [
      "Min pixel value: 0.0\n",
      "Max pixel value: 1.0\n"
     ]
    }
   ],
   "execution_count": 4
  },
  {
   "metadata": {
    "ExecuteTime": {
     "end_time": "2025-05-20T12:25:15.160857Z",
     "start_time": "2025-05-20T12:25:14.426528Z"
    }
   },
   "cell_type": "code",
   "source": "model = Model().load_model('best_model_basic/VGG-base-train/best_model.pickle')",
   "id": "31195eeba265eb3e",
   "outputs": [
    {
     "name": "stdout",
     "output_type": "stream",
     "text": [
      "Model loaded from: best_model\\2025-05-20_19-05-19\\best_model.pickle\n"
     ]
    }
   ],
   "execution_count": 5
  },
  {
   "metadata": {
    "ExecuteTime": {
     "end_time": "2025-05-20T12:25:17.006326Z",
     "start_time": "2025-05-20T12:25:17.000987Z"
    }
   },
   "cell_type": "code",
   "source": "loss_fn = CrossEntropy(model=model)",
   "id": "c38c3ca5cea938e8",
   "outputs": [],
   "execution_count": 6
  },
  {
   "metadata": {
    "ExecuteTime": {
     "end_time": "2025-05-20T12:25:17.498236Z",
     "start_time": "2025-05-20T12:25:17.493698Z"
    }
   },
   "cell_type": "code",
   "source": "runner = RunnerM(model=model, loss=loss_fn, optimizer=None)",
   "id": "57c905633cf53dd9",
   "outputs": [],
   "execution_count": 7
  },
  {
   "metadata": {
    "ExecuteTime": {
     "end_time": "2025-05-20T12:26:11.066679Z",
     "start_time": "2025-05-20T12:25:50.141984Z"
    }
   },
   "cell_type": "code",
   "source": [
    " # 5. 评估并输出\n",
    "test_loss, test_acc = runner.evaluate(test_set, batch_size=128,loss_fn=loss_fn)\n",
    "print(f\"Test loss: {test_loss:.4f}, Test accuracy: {test_acc:.4f}\")"
   ],
   "id": "f4a807246f219707",
   "outputs": [
    {
     "name": "stdout",
     "output_type": "stream",
     "text": [
      "Test loss: 0.9749, Test accuracy: 0.7832\n"
     ]
    }
   ],
   "execution_count": 11
  },
  {
   "metadata": {},
   "cell_type": "code",
   "source": [
    "from mynn.attack import fgsm_attack\n",
    "adv_test_images = fgsm_attack(\n",
    "    model=model, \n",
    "    images=test_images, \n",
    "    labels=test_labels, \n",
    "    loss_fn=loss_fn,\n",
    "    epsilon=1/255.0  \n",
    ")\n",
    "\n",
    "test_set_adv = (adv_test_images, test_labels)"
   ],
   "id": "783c4097f9814279",
   "outputs": [],
   "execution_count": null
  },
  {
   "metadata": {
    "ExecuteTime": {
     "end_time": "2025-05-20T12:28:34.934494Z",
     "start_time": "2025-05-20T12:28:34.921418Z"
    }
   },
   "cell_type": "code",
   "source": [
    "print(\"Min pixel value:\", np.min(adv_test_images))\n",
    "print(\"Max pixel value:\", np.max(adv_test_images))\n"
   ],
   "id": "f42709a112014f7f",
   "outputs": [
    {
     "name": "stdout",
     "output_type": "stream",
     "text": [
      "Min pixel value: 0.0\n",
      "Max pixel value: 1.0\n"
     ]
    }
   ],
   "execution_count": 13
  },
  {
   "metadata": {
    "ExecuteTime": {
     "end_time": "2025-05-20T12:29:47.304831Z",
     "start_time": "2025-05-20T12:28:36.216387Z"
    }
   },
   "cell_type": "code",
   "source": [
    "adv_loss, adv_acc = runner.evaluate(test_set_adv, batch_size=64, loss_fn=loss_fn)\n",
    "print(f\"Adversarial Test loss: {adv_loss:.5f}, Test accuracy: {adv_acc:.5f}\")"
   ],
   "id": "5c5f67331e60641b",
   "outputs": [
    {
     "name": "stdout",
     "output_type": "stream",
     "text": [
      "Adversarial Test loss: 3.78957, Test accuracy: 0.59604\n"
     ]
    }
   ],
   "execution_count": 14
  },
  {
   "metadata": {
    "ExecuteTime": {
     "end_time": "2025-05-20T12:30:27.635779Z",
     "start_time": "2025-05-20T12:30:26.889744Z"
    }
   },
   "cell_type": "code",
   "source": [
    "import matplotlib.pyplot as plt\n",
    "\n",
    "def plot_images(images, labels, title=\"\"):\n",
    "    \"\"\"\n",
    "    显示前五张图片，自动处理 Cupy/NumPy、范围归一化等\n",
    "    - images: (N, C, H, W)，可为 Cupy 或 NumPy\n",
    "    - labels: (N,) 或 (N, C)\n",
    "    \"\"\"\n",
    "    fig, axes = plt.subplots(1, 5, figsize=(15, 3))\n",
    "    fig.suptitle(title)\n",
    "\n",
    "    for i in range(5):\n",
    "        ax = axes[i]\n",
    "\n",
    "        # 取单张图片，并转 (H, W, C)\n",
    "        img = images[i].transpose(1, 2, 0)\n",
    "\n",
    "        # 如果是 cupy，则转为 numpy\n",
    "        if hasattr(img, 'get'):\n",
    "            img = img.get()\n",
    "\n",
    "        # 如果像素最大值超过1，说明是 [0, 255]，就归一化\n",
    "        if img.max() > 1:\n",
    "            img = img / 255.0\n",
    "\n",
    "        img = np.clip(img, 0, 1)  # 保险剪裁，防止 overflow\n",
    "\n",
    "        ax.imshow(img)\n",
    "        # 标签显示\n",
    "        label = labels[i]\n",
    "        label_text = np.argmax(label) if len(label.shape) > 0 and label.shape[0] > 1 else label\n",
    "        ax.set_title(f\"Label: {label_text}\")\n",
    "        ax.axis('off')\n",
    "\n",
    "    plt.show()\n",
    "\n",
    "\n",
    "print(\"Displaying original images...\")\n",
    "plot_images(test_images, test_labels, title=\"First 5 Images from Test Set\")\n",
    "\n",
    "print(\"Displaying adversarial images...\")\n",
    "plot_images(adv_test_images, test_labels, title=\"First 5 Adversarial Images\")"
   ],
   "id": "2f615a81a7dc6e25",
   "outputs": [
    {
     "name": "stdout",
     "output_type": "stream",
     "text": [
      "Displaying original images...\n"
     ]
    },
    {
     "data": {
      "text/plain": [
       "<Figure size 1500x300 with 5 Axes>"
      ],
      "image/png": "[encoded data removed]"
     },
     "metadata": {},
     "output_type": "display_data"
    },
    {
     "name": "stdout",
     "output_type": "stream",
     "text": [
      "Displaying adversarial images...\n"
     ]
    },
    {
     "data": {
      "text/plain": [
       "<Figure size 1500x300 with 5 Axes>"
      ],
      "image/png": "[encoded data removed]"
     },
     "metadata": {},
     "output_type": "display_data"
    }
   ],
   "execution_count": 15
  },
  {
   "metadata": {},
   "cell_type": "markdown",
   "source": "# adv train test:\n",
   "id": "9e1f9602b9b23235"
  },
  {
   "metadata": {
    "ExecuteTime": {
     "end_time": "2025-05-20T15:15:55.954489Z",
     "start_time": "2025-05-20T15:15:55.397953Z"
    }
   },
   "cell_type": "code",
   "source": "model2=Model().load_model('best_models_fgsm/VGG-adv-train/best_model.pickle')",
   "id": "574a468f4ff00824",
   "outputs": [
    {
     "name": "stdout",
     "output_type": "stream",
     "text": [
      "Model loaded from: best_models\\2025-05-20_20-32-28\\best_model.pickle\n"
     ]
    }
   ],
   "execution_count": 5
  },
  {
   "metadata": {
    "ExecuteTime": {
     "end_time": "2025-05-20T15:17:24.232321Z",
     "start_time": "2025-05-20T15:16:11.342064Z"
    }
   },
   "cell_type": "code",
   "source": [
    "loss_fn2 = CrossEntropy(model=model2)\n",
    "runner2 = RunnerM(model=model2, loss=loss_fn2, optimizer=None)\n",
    "# 5. 评估并输出\n",
    "test_loss, test_acc = runner2.evaluate(test_set, batch_size=128, loss_fn=loss_fn2)\n",
    "print(f\"Test loss: {test_loss:.4f}, Test accuracy: {test_acc:.4f}\")"
   ],
   "id": "cc8216a25998bbcd",
   "outputs": [
    {
     "name": "stdout",
     "output_type": "stream",
     "text": [
      "Test loss: 0.6911, Test accuracy: 0.7956\n"
     ]
    }
   ],
   "execution_count": 7
  },
  {
   "metadata": {
    "ExecuteTime": {
     "end_time": "2025-05-20T15:20:29.235242Z",
     "start_time": "2025-05-20T15:17:28.090771Z"
    }
   },
   "cell_type": "code",
   "source": [
    "from mynn.attack import fgsm_attack\n",
    "\n",
    "adv_test_images = fgsm_attack(\n",
    "    model=model2,\n",
    "    images=test_images,\n",
    "    labels=test_labels,\n",
    "    loss_fn=loss_fn2,\n",
    "    epsilon=1 / 255.0\n",
    ")\n",
    "\n"
   ],
   "id": "75e3c457fe316ce0",
   "outputs": [],
   "execution_count": 8
  },
  {
   "metadata": {
    "ExecuteTime": {
     "end_time": "2025-05-20T15:20:29.442456Z",
     "start_time": "2025-05-20T15:20:29.267763Z"
    }
   },
   "cell_type": "code",
   "source": [
    "test_set_adv = (adv_test_images, test_labels)\n",
    "print(\"Min pixel value:\", np.min(adv_test_images))\n",
    "print(\"Max pixel value:\", np.max(adv_test_images))"
   ],
   "id": "d2bb8a3289563147",
   "outputs": [
    {
     "name": "stdout",
     "output_type": "stream",
     "text": [
      "Min pixel value: 0.0\n",
      "Max pixel value: 1.0\n"
     ]
    }
   ],
   "execution_count": 9
  },
  {
   "metadata": {
    "ExecuteTime": {
     "end_time": "2025-05-20T15:22:28.635156Z",
     "start_time": "2025-05-20T15:20:29.535226Z"
    }
   },
   "cell_type": "code",
   "source": [
    "adv_loss, adv_acc = runner2.evaluate(test_set_adv, batch_size=64, loss_fn=loss_fn2)\n",
    "print(f\"Adversarial Test loss: {adv_loss:.5f}, Test accuracy: {adv_acc:.5f}\")"
   ],
   "id": "eb123d0239f895e3",
   "outputs": [
    {
     "name": "stdout",
     "output_type": "stream",
     "text": [
      "Adversarial Test loss: 1.39062, Test accuracy: 0.64829\n"
     ]
    }
   ],
   "execution_count": 10
  }
 ],
 "metadata": {
  "kernelspec": {
   "display_name": "Python 3",
   "language": "python",
   "name": "python3"
  },
  "language_info": {
   "codemirror_mode": {
    "name": "ipython",
    "version": 2
   },
   "file_extension": ".py",
   "mimetype": "text/x-python",
   "name": "python",
   "nbconvert_exporter": "python",
   "pygments_lexer": "ipython2",
   "version": "2.7.6"
  }
 },
 "nbformat": 4,
 "nbformat_minor": 5
}
