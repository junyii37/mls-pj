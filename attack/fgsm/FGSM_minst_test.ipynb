{
 "cells": [
  {
   "cell_type": "code",
   "id": "initial_id",
   "metadata": {
    "collapsed": true,
    "ExecuteTime": {
     "end_time": "2025-05-27T06:26:08.332831Z",
     "start_time": "2025-05-27T06:26:02.181938Z"
    }
   },
   "source": [
    "import argparse\n",
    "import sys\n",
    "from torchvision.datasets import MNIST\n",
    "from mynn.data import mnist_augment, preprocess, basic_mnist_augment, merge_datasets\n",
    "from mynn.layer import Flatten, Linear, ReLU, He, Conv, Dropout, Pooling, BN,Sigmoid\n",
    "from mynn.loss import CrossEntropy\n",
    "from mynn import Model\n",
    "from mynn.optimizer import SGD, Adam, MomentGD\n",
    "from mynn.runner import RunnerM, EarlyStopping, CosineAnnealingLR\n",
    "import cupy as cp\n",
    "from mynn.attack import *"
   ],
   "outputs": [],
   "execution_count": 1
  },
  {
   "metadata": {},
   "cell_type": "markdown",
   "source": "# basic test",
   "id": "ff9c3766d625085e"
  },
  {
   "metadata": {
    "ExecuteTime": {
     "end_time": "2025-05-27T06:26:29.969289Z",
     "start_time": "2025-05-27T06:26:29.601951Z"
    }
   },
   "cell_type": "code",
   "source": [
    "cp.random.seed(42)\n",
    "\n",
    "train_dataset = MNIST(\n",
    "    root=\"dataset\",\n",
    "    train=True,\n",
    "    transform=basic_mnist_augment(train=True),\n",
    "    download=False\n",
    ")\n",
    "test_dataset = MNIST(\n",
    "    root=\"dataset\",\n",
    "    train=False,\n",
    "    transform=basic_mnist_augment(train=False),\n",
    "    download=False\n",
    ")\n",
    "\n",
    "\n",
    "train_images, train_labels = preprocess(train_dataset)\n",
    "test_images, test_labels = preprocess(test_dataset)\n",
    "\n",
    "\n",
    "\n",
    "train_set = (train_images[:50000], train_labels[:50000])\n",
    "\n",
    "dev_set = (train_images[50000:], train_labels[50000:])\n",
    "test_images = cp.asarray(test_images)\n",
    "test_labels = cp.asarray(test_labels)\n",
    "test_set = (test_images, test_labels)"
   ],
   "id": "68229c3d254b93be",
   "outputs": [],
   "execution_count": 2
  },
  {
   "metadata": {
    "ExecuteTime": {
     "end_time": "2025-05-27T06:26:31.314987Z",
     "start_time": "2025-05-27T06:26:31.261823Z"
    }
   },
   "cell_type": "code",
   "source": [
    "model = Model().load_model('best_model_basic/minst_base_lenet/best_model.pickle')\n",
    "loss_fn   = CrossEntropy(model=model)\n",
    "runner    = RunnerM(model=model, loss=loss_fn, optimizer=None)"
   ],
   "id": "e0e2e3989a51ec61",
   "outputs": [
    {
     "name": "stdout",
     "output_type": "stream",
     "text": [
      "Model loaded from: best_model_basic\\minst_base_lenet\\best_model.pickle\n"
     ]
    }
   ],
   "execution_count": 3
  },
  {
   "metadata": {
    "ExecuteTime": {
     "end_time": "2025-05-27T06:26:33.570894Z",
     "start_time": "2025-05-27T06:26:32.977309Z"
    }
   },
   "cell_type": "code",
   "source": [
    "# 4. 测试集评估\n",
    "test_loss, test_acc = runner.evaluate(test_set, batch_size=128,loss_fn=loss_fn)\n",
    "print(f\"Test loss: {test_loss:.4f}, Test accuracy: {test_acc:.4f}\")"
   ],
   "id": "bde2743ed05875ca",
   "outputs": [
    {
     "name": "stdout",
     "output_type": "stream",
     "text": [
      "Test loss: 0.0706, Test accuracy: 0.9776\n"
     ]
    }
   ],
   "execution_count": 4
  },
  {
   "metadata": {
    "ExecuteTime": {
     "end_time": "2025-05-27T06:26:57.480686Z",
     "start_time": "2025-05-27T06:26:52.956679Z"
    }
   },
   "cell_type": "code",
   "source": [
    "from mynn.attack import fgsm_attack\n",
    "adv_test_images = fgsm_attack(\n",
    "    model=model, \n",
    "    images=test_images, \n",
    "    labels=test_labels, \n",
    "    loss_fn=loss_fn,\n",
    "    epsilon=20/255.0  \n",
    ")\n",
    "\n",
    "test_set_adv = (adv_test_images, test_labels)"
   ],
   "id": "135f976ee709df9c",
   "outputs": [],
   "execution_count": 7
  },
  {
   "metadata": {
    "ExecuteTime": {
     "end_time": "2025-05-27T06:27:40.510589Z",
     "start_time": "2025-05-27T06:27:39.330869Z"
    }
   },
   "cell_type": "code",
   "source": [
    "adv_loss, adv_acc = runner.evaluate(test_set_adv, batch_size=128, loss_fn=loss_fn)\n",
    "print(f\"Adversarial Test loss: {adv_loss:.5f}, Test accuracy: {adv_acc:.5f}\")"
   ],
   "id": "635d53fa08867d9f",
   "outputs": [
    {
     "name": "stdout",
     "output_type": "stream",
     "text": [
      "Adversarial Test loss: 3.44903, Test accuracy: 0.25574\n"
     ]
    }
   ],
   "execution_count": 9
  },
  {
   "metadata": {
    "ExecuteTime": {
     "end_time": "2025-05-27T06:27:55.493830Z",
     "start_time": "2025-05-27T06:27:51.448179Z"
    }
   },
   "cell_type": "code",
   "source": [
    "from mynn.attack import fgsm_attack\n",
    "adv_test_images = fgsm_attack(\n",
    "    model=model, \n",
    "    images=test_images, \n",
    "    labels=test_labels, \n",
    "    loss_fn=loss_fn,\n",
    "    epsilon=5/255.0  \n",
    ")\n",
    "\n",
    "test_set_adv = (adv_test_images, test_labels)"
   ],
   "id": "3c378b6cdd426370",
   "outputs": [],
   "execution_count": 10
  },
  {
   "metadata": {
    "ExecuteTime": {
     "end_time": "2025-05-27T06:27:55.807702Z",
     "start_time": "2025-05-27T06:27:55.496921Z"
    }
   },
   "cell_type": "code",
   "source": [
    "adv_loss, adv_acc = runner.evaluate(test_set_adv, batch_size=128, loss_fn=loss_fn)\n",
    "print(f\"Adversarial Test loss: {adv_loss:.5f}, Test accuracy: {adv_acc:.5f}\")"
   ],
   "id": "f91d483983486f93",
   "outputs": [
    {
     "name": "stdout",
     "output_type": "stream",
     "text": [
      "Adversarial Test loss: 0.25628, Test accuracy: 0.91851\n"
     ]
    }
   ],
   "execution_count": 11
  },
  {
   "metadata": {
    "ExecuteTime": {
     "end_time": "2025-05-27T06:33:35.018084Z",
     "start_time": "2025-05-27T06:33:34.990754Z"
    }
   },
   "cell_type": "code",
   "source": [
    "model   = Model().load_model('best_models_fgsm/minst-bn-fgsm/best_model.pickle')\n",
    "loss_fn   = CrossEntropy(model=model)\n",
    "runner    = RunnerM(model=model, loss=loss_fn, optimizer=None)"
   ],
   "id": "bd274ea747cf3910",
   "outputs": [
    {
     "name": "stdout",
     "output_type": "stream",
     "text": [
      "Model loaded from: best_models_fgsm\\minst-bn-fgsm\\best_model.pickle\n"
     ]
    }
   ],
   "execution_count": 12
  },
  {
   "metadata": {
    "ExecuteTime": {
     "end_time": "2025-05-27T06:33:45.196436Z",
     "start_time": "2025-05-27T06:33:43.796382Z"
    }
   },
   "cell_type": "code",
   "source": [
    "# 4. 测试集评估\n",
    "test_loss, test_acc = runner.evaluate(test_set, batch_size=128,loss_fn=loss_fn)\n",
    "print(f\"Test loss: {test_loss:.4f}, Test accuracy: {test_acc:.4f}\")"
   ],
   "id": "611160fa5fad3066",
   "outputs": [
    {
     "name": "stdout",
     "output_type": "stream",
     "text": [
      "Test loss: 0.0336, Test accuracy: 0.9889\n"
     ]
    }
   ],
   "execution_count": 13
  },
  {
   "metadata": {
    "ExecuteTime": {
     "end_time": "2025-05-27T06:34:01.268426Z",
     "start_time": "2025-05-27T06:33:55.993240Z"
    }
   },
   "cell_type": "code",
   "source": [
    "from mynn.attack import fgsm_attack\n",
    "adv_test_images = fgsm_attack(\n",
    "    model=model, \n",
    "    images=test_images, \n",
    "    labels=test_labels, \n",
    "    loss_fn=loss_fn,\n",
    "    epsilon=20/255.0  \n",
    ")\n",
    "\n",
    "test_set_adv = (adv_test_images, test_labels)"
   ],
   "id": "d7280a401c4179c7",
   "outputs": [],
   "execution_count": 14
  },
  {
   "metadata": {
    "ExecuteTime": {
     "end_time": "2025-05-27T06:34:06.543483Z",
     "start_time": "2025-05-27T06:34:05.259983Z"
    }
   },
   "cell_type": "code",
   "source": [
    "adv_loss, adv_acc = runner.evaluate(test_set_adv, batch_size=128, loss_fn=loss_fn)\n",
    "print(f\"Adversarial Test loss: {adv_loss:.5f}, Test accuracy: {adv_acc:.5f}\")"
   ],
   "id": "64ff988a66ea44bb",
   "outputs": [
    {
     "name": "stdout",
     "output_type": "stream",
     "text": [
      "Adversarial Test loss: 0.11101, Test accuracy: 0.96292\n"
     ]
    }
   ],
   "execution_count": 15
  },
  {
   "metadata": {
    "ExecuteTime": {
     "end_time": "2025-05-27T06:34:12.314848Z",
     "start_time": "2025-05-27T06:34:06.639631Z"
    }
   },
   "cell_type": "code",
   "source": [
    "from mynn.attack import fgsm_attack\n",
    "\n",
    "adv_test_images = fgsm_attack(\n",
    "    model=model,\n",
    "    images=test_images,\n",
    "    labels=test_labels,\n",
    "    loss_fn=loss_fn,\n",
    "    epsilon=5 / 255.0\n",
    ")\n",
    "\n",
    "test_set_adv = (adv_test_images, test_labels)\n",
    "adv_loss, adv_acc = runner.evaluate(test_set_adv, batch_size=128, loss_fn=loss_fn)\n",
    "print(f\"Adversarial Test loss: {adv_loss:.5f}, Test accuracy: {adv_acc:.5f}\")"
   ],
   "id": "dc3c6b9877d2ff72",
   "outputs": [
    {
     "name": "stdout",
     "output_type": "stream",
     "text": [
      "Adversarial Test loss: 0.04838, Test accuracy: 0.98418\n"
     ]
    }
   ],
   "execution_count": 16
  }
 ],
 "metadata": {
  "kernelspec": {
   "display_name": "Python 3",
   "language": "python",
   "name": "python3"
  },
  "language_info": {
   "codemirror_mode": {
    "name": "ipython",
    "version": 2
   },
   "file_extension": ".py",
   "mimetype": "text/x-python",
   "name": "python",
   "nbconvert_exporter": "python",
   "pygments_lexer": "ipython2",
   "version": "2.7.6"
  }
 },
 "nbformat": 4,
 "nbformat_minor": 5
}
