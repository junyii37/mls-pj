{
 "cells": [
  {
   "metadata": {},
   "cell_type": "markdown",
   "source": "# basic model\n",
   "id": "69290d637ec8d5c4"
  },
  {
   "cell_type": "code",
   "id": "initial_id",
   "metadata": {
    "collapsed": true,
    "ExecuteTime": {
     "end_time": "2025-05-22T12:35:19.124115Z",
     "start_time": "2025-05-22T12:35:15.001203Z"
    }
   },
   "source": [
    "import argparse\n",
    "import sys\n",
    "from torchvision.datasets import MNIST\n",
    "from mynn.data import mnist_augment, preprocess, basic_mnist_augment, merge_datasets\n",
    "from mynn.layer import Flatten, Linear, ReLU, He, Conv, Dropout, Pooling, BN,Sigmoid\n",
    "from mynn.loss import CrossEntropy\n",
    "from mynn import Model\n",
    "from mynn.optimizer import SGD, Adam, MomentGD\n",
    "from mynn.runner import RunnerM, EarlyStopping, CosineAnnealingLR\n",
    "import cupy as cp"
   ],
   "outputs": [],
   "execution_count": 1
  },
  {
   "metadata": {
    "ExecuteTime": {
     "end_time": "2025-05-22T12:35:20.373341Z",
     "start_time": "2025-05-22T12:35:20.031501Z"
    }
   },
   "cell_type": "code",
   "source": [
    "cp.random.seed(42)\n",
    "\n",
    "train_dataset = MNIST(\n",
    "        root=\"dataset\",\n",
    "        train=True,\n",
    "        transform=basic_mnist_augment(train=True),\n",
    "        download=False\n",
    "    )\n",
    "test_dataset = MNIST(\n",
    "    root=\"dataset\",\n",
    "    train=False,\n",
    "    transform=basic_mnist_augment(train=False),\n",
    "    download=False\n",
    ")"
   ],
   "id": "32d6a63560d9466d",
   "outputs": [],
   "execution_count": 2
  },
  {
   "metadata": {
    "ExecuteTime": {
     "end_time": "2025-05-22T12:35:21.362708Z",
     "start_time": "2025-05-22T12:35:21.271962Z"
    }
   },
   "cell_type": "code",
   "source": [
    "import numpy as np\n",
    "train_images, train_labels = preprocess(train_dataset)\n",
    "test_images,  test_labels  = preprocess(test_dataset)\n",
    "# \n",
    "# train_images = train_images.astype(np.float32) / 255.0\n",
    "# test_images = test_images.astype(np.float32) / 255.0\n",
    "\n",
    "\n",
    "train_set = (train_images[:50000], train_labels[:50000])\n",
    "\n",
    "dev_set   = (train_images[50000:], train_labels[50000:])\n",
    "test_images = cp.asarray(test_images)\n",
    "test_labels = cp.asarray(test_labels)\n",
    "test_set  = (test_images, test_labels)"
   ],
   "id": "5641baaec86c3d32",
   "outputs": [],
   "execution_count": 3
  },
  {
   "metadata": {
    "ExecuteTime": {
     "end_time": "2025-05-22T12:35:22.412385Z",
     "start_time": "2025-05-22T12:35:22.390144Z"
    }
   },
   "cell_type": "code",
   "source": [
    "import numpy as np\n",
    "print(\"Min pixel value:\", cp.min(test_images))\n",
    "print(\"Max pixel value:\", cp.max(test_images))"
   ],
   "id": "d641a436beb2e1f4",
   "outputs": [
    {
     "name": "stdout",
     "output_type": "stream",
     "text": [
      "Min pixel value: 0.0\n",
      "Max pixel value: 1.0\n"
     ]
    }
   ],
   "execution_count": 4
  },
  {
   "metadata": {
    "ExecuteTime": {
     "end_time": "2025-05-22T11:45:39.404706Z",
     "start_time": "2025-05-22T11:45:39.337369Z"
    }
   },
   "cell_type": "code",
   "source": "model= Model().load_model('best_model_basic/minst_base_lenet/best_model.pickle')",
   "id": "bd4f363d4abf88b3",
   "outputs": [
    {
     "name": "stdout",
     "output_type": "stream",
     "text": [
      "Model loaded from: best_model_basic\\minst_base_lenet\\best_model.pickle\n"
     ]
    }
   ],
   "execution_count": 6
  },
  {
   "metadata": {
    "ExecuteTime": {
     "end_time": "2025-05-22T11:45:42.480890Z",
     "start_time": "2025-05-22T11:45:41.006192Z"
    }
   },
   "cell_type": "code",
   "source": [
    "loss_fn = CrossEntropy(model=model)\n",
    "runner = RunnerM(model=model, loss=loss_fn, optimizer=None)\n",
    "\n",
    "test_loss, test_acc = runner.evaluate(test_set, batch_size=128, loss_fn=loss_fn)\n",
    "print(f\"Test loss: {test_loss:.4f}, Test accuracy: {test_acc:.4f}\")"
   ],
   "id": "1343750d1a93c6bb",
   "outputs": [
    {
     "name": "stdout",
     "output_type": "stream",
     "text": [
      "Test loss: 0.0706, Test accuracy: 0.9776\n"
     ]
    }
   ],
   "execution_count": 7
  },
  {
   "metadata": {
    "ExecuteTime": {
     "end_time": "2025-05-22T11:46:57.839360Z",
     "start_time": "2025-05-22T11:46:39.171604Z"
    }
   },
   "cell_type": "code",
   "source": [
    "from mynn.attack import pgd_kl_attack\n",
    "\n",
    "adv_test_images = pgd_kl_attack(\n",
    "    model=model, \n",
    "    images=test_images, \n",
    "    epsilon=20/255,\n",
    "    num_steps=10,\n",
    "    step_size=4/255,\n",
    "    batch_size=128,\n",
    "    verbose=True,\n",
    ")\n",
    "\n",
    "test_set_adv = (adv_test_images, test_labels)"
   ],
   "id": "8da856f592d7b1ac",
   "outputs": [
    {
     "name": "stderr",
     "output_type": "stream",
     "text": [
      "Generating Adversarial Examples: 100%|██████████████████████████████| 79/79 [00:17<00:00,  4.48it/s]\n"
     ]
    }
   ],
   "execution_count": 12
  },
  {
   "metadata": {
    "ExecuteTime": {
     "end_time": "2025-05-22T11:47:02.823433Z",
     "start_time": "2025-05-22T11:47:01.707936Z"
    }
   },
   "cell_type": "code",
   "source": [
    "adv_loss, adv_acc = runner.evaluate(test_set_adv, batch_size=128, loss_fn=loss_fn)\n",
    "print(f\"Adversarial Test loss: {adv_loss:.5f}, Test accuracy: {adv_acc:.5f}\")"
   ],
   "id": "60dd48290032c641",
   "outputs": [
    {
     "name": "stdout",
     "output_type": "stream",
     "text": [
      "Adversarial Test loss: 2.00404, Test accuracy: 0.52186\n"
     ]
    }
   ],
   "execution_count": 13
  },
  {
   "metadata": {
    "ExecuteTime": {
     "end_time": "2025-05-22T11:47:07.470473Z",
     "start_time": "2025-05-22T11:47:07.195483Z"
    }
   },
   "cell_type": "code",
   "source": [
    "import matplotlib.pyplot as plt\n",
    "\n",
    "\n",
    "def plot_images(images, labels, title=\"\"):\n",
    "    \"\"\"\n",
    "    显示前五张图片，自动处理 Cupy/NumPy、范围归一化等\n",
    "    - images: (N, C, H, W)，可为 Cupy 或 NumPy\n",
    "    - labels: (N,) 或 (N, C)\n",
    "    \"\"\"\n",
    "    fig, axes = plt.subplots(1, 5, figsize=(15, 3))\n",
    "    fig.suptitle(title)\n",
    "\n",
    "    for i in range(5):\n",
    "        ax = axes[i]\n",
    "\n",
    "        # 取单张图片，并转 (H, W, C)\n",
    "        img = images[i].transpose(1, 2, 0)\n",
    "\n",
    "        # 如果是 cupy，则转为 numpy\n",
    "        if hasattr(img, 'get'):\n",
    "            img = img.get()\n",
    "\n",
    "        # 如果像素最大值超过1，说明是 [0, 255]，就归一化\n",
    "        if img.max() > 1:\n",
    "            img = img / 255.0\n",
    "\n",
    "        img = np.clip(img, 0, 1)  # 保险剪裁，防止 overflow\n",
    "\n",
    "        ax.imshow(img)\n",
    "        # 标签显示\n",
    "        label = labels[i]\n",
    "        label_text = np.argmax(label) if len(label.shape) > 0 and label.shape[0] > 1 else label\n",
    "        ax.set_title(f\"Label: {label_text}\")\n",
    "        ax.axis('off')\n",
    "\n",
    "    plt.show()\n",
    "\n",
    "\n",
    "print(\"Displaying original images...\")\n",
    "plot_images(test_images, test_labels, title=\"First 5 Images from Test Set\")\n",
    "\n",
    "print(\"Displaying adversarial images...\")\n",
    "plot_images(adv_test_images, test_labels, title=\"First 5 Adversarial Images\")"
   ],
   "id": "8bb710c728b23057",
   "outputs": [
    {
     "name": "stdout",
     "output_type": "stream",
     "text": [
      "Displaying original images...\n"
     ]
    },
    {
     "data": {
      "text/plain": [
       "<Figure size 1500x300 with 5 Axes>"
      ],
      "image/png": "[encoded data removed]"
     },
     "metadata": {},
     "output_type": "display_data"
    },
    {
     "name": "stdout",
     "output_type": "stream",
     "text": [
      "Displaying adversarial images...\n"
     ]
    },
    {
     "data": {
      "text/plain": [
       "<Figure size 1500x300 with 5 Axes>"
      ],
      "image/png": "[encoded data removed]"
     },
     "metadata": {},
     "output_type": "display_data"
    }
   ],
   "execution_count": 14
  },
  {
   "metadata": {},
   "cell_type": "markdown",
   "source": "# trades model",
   "id": "95d753a68634fbeb"
  },
  {
   "metadata": {
    "ExecuteTime": {
     "end_time": "2025-05-22T12:36:18.435749Z",
     "start_time": "2025-05-22T12:36:18.424657Z"
    }
   },
   "cell_type": "code",
   "source": "model= Model().load_model('best_model_trades/minst-trade-lenet/best_model.pickle')",
   "id": "6d7b13ad4d8b3d54",
   "outputs": [
    {
     "name": "stdout",
     "output_type": "stream",
     "text": [
      "Model loaded from: best_model_trades\\minst-trade-lenet\\best_model.pickle\n"
     ]
    }
   ],
   "execution_count": 8
  },
  {
   "metadata": {
    "ExecuteTime": {
     "end_time": "2025-05-22T12:36:20.749121Z",
     "start_time": "2025-05-22T12:36:19.228686Z"
    }
   },
   "cell_type": "code",
   "source": [
    "loss_fn = CrossEntropy(model=model)\n",
    "runner = RunnerM(model=model, loss=loss_fn, optimizer=None)\n",
    "\n",
    "test_loss, test_acc = runner.evaluate(test_set, batch_size=128, loss_fn=loss_fn)\n",
    "print(f\"Test loss: {test_loss:.4f}, Test accuracy: {test_acc:.4f}\")"
   ],
   "id": "44102fceb8a2ca8f",
   "outputs": [
    {
     "name": "stdout",
     "output_type": "stream",
     "text": [
      "Test loss: 0.0606, Test accuracy: 0.9819\n"
     ]
    }
   ],
   "execution_count": 9
  },
  {
   "metadata": {
    "ExecuteTime": {
     "end_time": "2025-05-22T12:36:40.393225Z",
     "start_time": "2025-05-22T12:36:22.188404Z"
    }
   },
   "cell_type": "code",
   "source": [
    "from mynn.attack import pgd_kl_attack\n",
    "\n",
    "adv_test_images = pgd_kl_attack(\n",
    "    model=model, \n",
    "    images=test_images, \n",
    "    epsilon=20/255,\n",
    "    num_steps=10,\n",
    "    step_size=4/255,\n",
    "    batch_size=128,\n",
    "    verbose=True,\n",
    ")\n",
    "\n",
    "test_set_adv = (adv_test_images, test_labels)"
   ],
   "id": "c83ef7716339ad5d",
   "outputs": [
    {
     "name": "stderr",
     "output_type": "stream",
     "text": [
      "Generating Adversarial Examples: 100%|██████████████████████████████| 79/79 [00:17<00:00,  4.41it/s]\n"
     ]
    }
   ],
   "execution_count": 10
  },
  {
   "metadata": {
    "ExecuteTime": {
     "end_time": "2025-05-22T12:36:40.683141Z",
     "start_time": "2025-05-22T12:36:40.399320Z"
    }
   },
   "cell_type": "code",
   "source": [
    "adv_loss, adv_acc = runner.evaluate(test_set_adv, batch_size=128, loss_fn=loss_fn)\n",
    "print(f\"Adversarial Test loss: {adv_loss:.5f}, Test accuracy: {adv_acc:.5f}\")"
   ],
   "id": "66313d5be3a43213",
   "outputs": [
    {
     "name": "stdout",
     "output_type": "stream",
     "text": [
      "Adversarial Test loss: 0.07038, Test accuracy: 0.97686\n"
     ]
    }
   ],
   "execution_count": 11
  }
 ],
 "metadata": {
  "kernelspec": {
   "display_name": "Python 3",
   "language": "python",
   "name": "python3"
  },
  "language_info": {
   "codemirror_mode": {
    "name": "ipython",
    "version": 2
   },
   "file_extension": ".py",
   "mimetype": "text/x-python",
   "name": "python",
   "nbconvert_exporter": "python",
   "pygments_lexer": "ipython2",
   "version": "2.7.6"
  }
 },
 "nbformat": 4,
 "nbformat_minor": 5
}
